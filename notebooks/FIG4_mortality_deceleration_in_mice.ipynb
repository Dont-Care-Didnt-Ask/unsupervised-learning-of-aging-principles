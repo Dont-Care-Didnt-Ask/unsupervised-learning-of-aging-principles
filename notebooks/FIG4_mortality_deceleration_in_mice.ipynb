{
 "cells": [
  {
   "cell_type": "code",
   "execution_count": 1,
   "metadata": {
    "pycharm": {
     "name": "#%%\n"
    }
   },
   "outputs": [],
   "source": [
    "import warnings\n",
    "warnings.filterwarnings(\"ignore\")\n",
    "import os\n",
    "import numpy as np\n",
    "import matplotlib.pyplot as plt\n",
    "import pandas as pd\n",
    "from scipy.optimize import curve_fit\n",
    "from lifelines import NelsonAalenFitter\n",
    "from mice_dfi import plots\n",
    "from mice_dfi import dataset"
   ]
  },
  {
   "cell_type": "markdown",
   "metadata": {
    "pycharm": {
     "name": "#%% md\n"
    }
   },
   "source": [
    "## Define curve fitters"
   ]
  },
  {
   "cell_type": "code",
   "execution_count": 2,
   "metadata": {
    "execution": {
     "iopub.execute_input": "2021-04-05T14:20:55.929147Z",
     "iopub.status.busy": "2021-04-05T14:20:55.928946Z",
     "iopub.status.idle": "2021-04-05T14:20:55.948436Z",
     "shell.execute_reply": "2021-04-05T14:20:55.948093Z",
     "shell.execute_reply.started": "2021-04-05T14:20:55.929132Z"
    },
    "pycharm": {
     "name": "#%%\n"
    }
   },
   "outputs": [],
   "source": [
    "class SurvivalCurve(object):\n",
    "    def __init__(self, **kwargs):\n",
    "        self.death_journal = kwargs.get('death_journal', 0)\n",
    "        self.death_times = []\n",
    "        self.kaplan_meier_plot = []\n",
    "        self.cohort_size = self.death_journal.shape[0]\n",
    "        self.calc_survival_curve(self.death_journal)\n",
    "        self.name = kwargs.get('name', 'ID not stated')\n",
    "        self.fitting_interval = kwargs.get('fitting_interval', (0,200))\n",
    "        self.average_lifespan = 0.\n",
    "        self.maximum_lifespan = 0.\n",
    "        self.calc_average_lifespan()\n",
    "\n",
    "    def calc_survival_curve(self, death_journal):\n",
    "        self.death_times = np.sort(np.unique(death_journal))\n",
    "        if self.death_times[0] != 0:\n",
    "            self.death_times = np.hstack((0, self.death_times))\n",
    "        died = np.zeros(self.death_times.shape[0])\n",
    "        for i in range(died.shape[0]):\n",
    "            died[i] = np.sum(self.death_journal == self.death_times[i])\n",
    "        self.kaplan_meier_plot = np.zeros(self.death_times.shape[0])\n",
    "        self.kaplan_meier_plot[0] = death_journal.shape[0]\n",
    "        for i in range(1, self.death_times.shape[0]):\n",
    "            self.kaplan_meier_plot[i] = self.kaplan_meier_plot[i-1] - died[i-1]\n",
    "        self.kaplan_meier_plot /= 1.0 * death_journal.shape[0]\n",
    "\n",
    "    def calc_average_lifespan(self):\n",
    "        idx = np.arange(self.death_times.shape[0])\n",
    "        idx_next = idx[1:]\n",
    "        idx_prev = idx[:-1]\n",
    "        self.average_lifespan = (np.sum((self.death_times[idx_next] - self.death_times[idx_prev]) * self.kaplan_meier_plot[idx_next]) +\n",
    "                                 1./2 * (self.death_times[-1] - self.death_times[-2]) * self.kaplan_meier_plot[-1])\n",
    "\n",
    "    def reshuffle_data(self, train_size=0.7):\n",
    "        dj = []\n",
    "        unique_deaths = np.unique(self.death_journal)\n",
    "        for year in unique_deaths:\n",
    "            idx = (self.death_journal == year)\n",
    "            num = np.sum(idx)\n",
    "            # 1% error\n",
    "            new_num = num * (0.9 + 0.20 * np.random.rand())\n",
    "            if new_num < 0:\n",
    "                new_num = 0\n",
    "            if len(dj) + new_num > self.death_journal.shape[0]:\n",
    "                dj += [year] * int(self.death_journal.shape[0] - len(dj))\n",
    "                break\n",
    "            else:\n",
    "                dj += [year] * int(new_num)\n",
    "        dj = np.array(dj)\n",
    "        self.calc_survival_curve(dj)\n",
    "        self.calc_average_lifespan()\n",
    "\n",
    "    def fit_mortality(self, func, bounds=(1e-12,[30., 30.]), p0=(1e-3,1.)):\n",
    "        \n",
    "        idx_interval = np.logical_and(self.death_times > self.fitting_interval[0],\n",
    "                                      self.death_times < self.fitting_interval[1])\n",
    "        \n",
    "        res_opt, _ = curve_fit(func, self.death_times[idx_interval], self.kaplan_meier_plot[idx_interval],\n",
    "\t\t\t\t\t\tbounds=bounds, p0=p0, maxfev=10000, xtol=1e-10, ftol=1e-10, gtol=1e-10)\n",
    "        self.calc_survival_curve(self.death_journal)\n",
    "        return res_opt\n",
    "\n",
    "    def calc_mean_parameters(self, M0s, alphas):\n",
    "        return np.mean(M0s), np.std(M0s), np.mean(alphas), np.std(alphas)\n",
    "\n",
    "class GompertzFit(SurvivalCurve):\n",
    "    def __init__(self, **kwargs):\n",
    "        SurvivalCurve.__init__(self, **kwargs)\n",
    "        self.alpha = 0.1\n",
    "        self.M0 = 0.01\n",
    "        self.M0_std = 0\n",
    "        self.alpha_std = 0\n",
    "        self.lifespan = 0\n",
    "        self.lifespan_std = 0\n",
    "        self.M0s = []\n",
    "        self.alphas = []\n",
    "        self.av_lfses = []\n",
    "\n",
    "    def Gompertz(self, t, M0, alpha):\n",
    "        return np.exp(1.0*M0/alpha * (1 - np.exp(alpha * t)))\n",
    "\n",
    "    def raw_mortality(self):\n",
    "        y = -np.log(self.kaplan_meier_plot.copy())\n",
    "        x = self.death_times.copy()\n",
    "        margin = 20\n",
    "        t = x[margin:-margin]\n",
    "        der = (y[2 * margin:] - y[:-2 * margin]) / (t[margin] - t[0])\n",
    "        return t, der\n",
    "\n",
    "    def fit_Gompertz(self, bounds=(0.,[30.,30.]), p0=([0.1,0.1])):\n",
    "        for i in range(200):\n",
    "            self.reshuffle_data()\n",
    "            res_opt = self.fit_mortality(self.Gompertz, bounds=bounds, p0=p0)\n",
    "            self.M0s.append(res_opt[0])\n",
    "            self.alphas.append(res_opt[1])\n",
    "        self.M0, self.M0_std, self.alpha, self.alpha_std = self.calc_mean_parameters(self.M0s, self.alphas)\n",
    "        self.GompertzCurves = [self.Gompertz(self.death_times, self.M0, self.alpha),\n",
    "                               self.Gompertz(self.death_times, self.M0 + self.M0_std, self.alpha - self.alpha_std),\n",
    "                               self.Gompertz(self.death_times, self.M0 - self.M0_std, self.alpha + self.alpha_std)]\n",
    "\n"
   ]
  },
  {
   "cell_type": "markdown",
   "metadata": {
    "pycharm": {
     "name": "#%% md\n"
    }
   },
   "source": [
    "## Load mortality data"
   ]
  },
  {
   "cell_type": "code",
   "execution_count": 3,
   "metadata": {
    "execution": {
     "iopub.execute_input": "2021-04-05T14:20:55.949054Z",
     "iopub.status.busy": "2021-04-05T14:20:55.948937Z",
     "iopub.status.idle": "2021-04-05T14:20:59.041160Z",
     "shell.execute_reply": "2021-04-05T14:20:59.040754Z",
     "shell.execute_reply.started": "2021-04-05T14:20:55.949042Z"
    },
    "pycharm": {
     "name": "#%%\n"
    }
   },
   "outputs": [
    {
     "name": "stdout",
     "output_type": "stream",
     "text": [
      "Total files: 11\n",
      "Total # of animals: 22276\n",
      "# of controls: 6628\n",
      "# of controls with known lifespan: 6227\n"
     ]
    }
   ],
   "source": [
    "data = dataset.load_lifespan_itp()"
   ]
  },
  {
   "cell_type": "markdown",
   "metadata": {
    "pycharm": {
     "name": "#%% md\n"
    }
   },
   "source": [
    "## Fit data and plot"
   ]
  },
  {
   "cell_type": "code",
   "execution_count": 4,
   "outputs": [],
   "source": [
    "fileformat_ = 'svg'\n",
    "os.makedirs('./figs',exist_ok=True)  # saving pngs\n",
    "os.makedirs('./source',exist_ok=True)  # saving source data\n",
    "bbox_inches = None # None  or 'tight'\n",
    "production = True\n",
    "plots.set_style(production=production)\n",
    "cm = 1/2.54  # centimeters in inches\n",
    "dpi=300\n",
    "if production:\n",
    "    fig_size = 8.8 * cm\n",
    "    fontsize = 7\n",
    "    scale=0.5\n",
    "else:\n",
    "    fig_size = 18. * cm\n",
    "    fontsize = 12\n",
    "    scale= 1\n",
    "    # fileformat_ = 'png'"
   ],
   "metadata": {
    "collapsed": false,
    "pycharm": {
     "name": "#%%\n"
    }
   }
  },
  {
   "cell_type": "code",
   "execution_count": 5,
   "outputs": [
    {
     "name": "stdout",
     "output_type": "stream",
     "text": [
      "Sex: m\n",
      "Gompertz alpha 0.03850052763303713 +/- 0.00024402102656909157\n",
      "Gompertz M0 0.00041291488885655136 +/- 7.193811131119987e-06\n",
      "Aver ls: 100.09204498125781\n"
     ]
    },
    {
     "data": {
      "text/plain": "<Figure size 346.457x346.457 with 2 Axes>",
      "image/png": "[encoded data removed]"
     },
     "metadata": {},
     "output_type": "display_data"
    },
    {
     "name": "stdout",
     "output_type": "stream",
     "text": [
      "Sex: f\n",
      "Gompertz alpha 0.05679403492744111 +/- 0.000389448043665965\n",
      "Gompertz M0 3.394239297693291e-05 +/- 1.2211519340089955e-06\n",
      "Aver ls: 117.95892031697115\n"
     ]
    },
    {
     "data": {
      "text/plain": "<Figure size 346.457x346.457 with 2 Axes>",
      "image/png": "[encoded data removed]"
     },
     "metadata": {},
     "output_type": "display_data"
    }
   ],
   "source": [
    "figsize=(fig_size, fig_size)\n",
    "# figsize=(4.167, 3.490)\n",
    "sexes = ['m', 'f']\n",
    "is_suppl = [True, False]\n",
    "kmps = {}\n",
    "bandwidth = 5\n",
    "for sex, suppl in zip(sexes, is_suppl):\n",
    "    if suppl:\n",
    "        suppl_str = 'suppl_'\n",
    "        fileformat = 'png'\n",
    "    else:\n",
    "        suppl_str = ''\n",
    "        fileformat = fileformat_\n",
    "    data_i = data[data.sex == sex].copy()\n",
    "    death_journal = np.sort(data_i['age'].values)\n",
    "    fitint = (0, 220)\n",
    "    kmp = GompertzFit(death_journal=death_journal, name='Sex: {}'.format(sex),\n",
    "                      fitting_interval=fitint\n",
    "                     )\n",
    "    kmp.fit_Gompertz(p0=(1e-8, 0.2))\n",
    "    kmp.calc_survival_curve(kmp.death_journal)\n",
    "    kmps[sex] = kmp\n",
    "    print(\"Sex: {}\".format(sex))\n",
    "    print(\"Gompertz alpha {} +/- {}\".format(kmp.alpha, kmp.alpha_std))\n",
    "    print(\"Gompertz M0 {} +/- {}\".format(kmp.M0, kmp.M0_std))\n",
    "    print(\"Aver ls:\", kmp.average_lifespan)\n",
    "\n",
    "    fig, (ax1, ax2) = plt.subplots(2, 1, sharex=True)\n",
    "    fig.set_size_inches(*figsize)\n",
    "    # survival curves\n",
    "    gompertz_fit = kmp.Gompertz(kmp.death_times, kmp.M0, kmp.alpha)\n",
    "    ax1.plot(kmp.death_times, gompertz_fit,\n",
    "             color='orange', linestyle='dashed', dashes=(2,2), lw=3.5*scale)\n",
    "    ax1.plot(kmp.death_times, kmp.kaplan_meier_plot, lw=5*scale)\n",
    "    ax1.set_ylabel('Fraction alive', fontsize=fontsize)\n",
    "\n",
    "    # Save data source for NC submission\n",
    "    source = pd.DataFrame(data=np.column_stack((kmp.death_times, kmp.kaplan_meier_plot, gompertz_fit)), columns=['Age (weeks)', 'survival', 'gompertz_fit'])\n",
    "    try:\n",
    "        with pd.ExcelWriter('./source/{:s}fig4_mortality_deceleration.xlsx'.format(suppl_str), engine=\"openpyxl\",  mode=\"a\", if_sheet_exists=\"replace\") as writer:\n",
    "            source.to_excel(writer, sheet_name='survival_curve_{:s}'.format(sex))\n",
    "    except FileNotFoundError:\n",
    "        with pd.ExcelWriter('./source/{:s}fig4_mortality_deceleration.xlsx'.format(suppl_str), engine=\"openpyxl\") as writer:\n",
    "            source.to_excel(writer, sheet_name='survival_curve_{:s}'.format(sex))\n",
    "\n",
    "    # empirical mortality curves\n",
    "    kmf = NelsonAalenFitter(nelson_aalen_smoothing=True)\n",
    "    kmf.fit(death_journal)\n",
    "    alpha = kmp.alpha\n",
    "    M0 = kmp.M0\n",
    "    kmf.plot_hazard(bandwidth=bandwidth, lw=5*scale, legend=None, ax=ax2)\n",
    "    ax2.plot([0,200], [alpha, alpha], lw = 2*scale, color='grey', linestyle='dashed', dashes=(3,4))\n",
    "    ax2.set_yscale('log')\n",
    "    ax2.set_xlim([0,220])\n",
    "    ax2.set_xlabel('Age (weeks)', fontsize=fontsize)\n",
    "    ax2.set_ylabel(r'Mortality (weeks$^{-1}$)', fontsize=fontsize)\n",
    "    # ax1.annotate('a', (0.05,1.05), xycoords='axes fraction', fontsize=fontsize)\n",
    "    # ax2.annotate('b', (0.05,1.1), xycoords='axes fraction', fontsize=fontsize)\n",
    "\n",
    "    fig.tight_layout()\n",
    "    fig.savefig('./figs/{:s}fig4_mortality_{:s}.{:s}'.format(suppl_str, sex, fileformat),  dpi=300, bbox_inches=bbox_inches, pad_inches=0)\n",
    "    plt.show()\n",
    "\n",
    "    # Save data source for NC submission\n",
    "    source = pd.concat((kmf.smoothed_hazard_(bandwidth), kmf.confidence_interval_), axis=1).reset_index()\n",
    "    source.columns = ['Age (weeks)', 'Mortality (week^-1)', 'Mortality (week^-1)_CI_lower_0.95', 'Mortality (week^-1)_CI_upper_0.95',]\n",
    "    try:\n",
    "        with pd.ExcelWriter('./source/{:s}fig4_mortality_deceleration.xlsx'.format(suppl_str), engine=\"openpyxl\",  mode=\"a\", if_sheet_exists=\"replace\") as writer:\n",
    "            source.to_excel(writer, sheet_name='empirical_mortality_{:s}'.format(sex), )\n",
    "    except FileNotFoundError:\n",
    "        with pd.ExcelWriter('./source/{:s}fig4_mortality_deceleration.xlsx'.format(suppl_str), engine=\"openpyxl\") as writer:\n",
    "            source.to_excel(writer, sheet_name='empirical_mortality_{:s}'.format(sex))\n"
   ],
   "metadata": {
    "collapsed": false,
    "pycharm": {
     "name": "#%%\n"
    }
   }
  }
 ],
 "metadata": {
  "kernelspec": {
   "name": "tmp",
   "language": "python",
   "display_name": "Python 3 (mice)"
  },
  "language_info": {
   "codemirror_mode": {
    "name": "ipython",
    "version": 3
   },
   "file_extension": ".py",
   "mimetype": "text/x-python",
   "name": "python",
   "nbconvert_exporter": "python",
   "pygments_lexer": "ipython3",
   "version": "3.8.5"
  }
 },
 "nbformat": 4,
 "nbformat_minor": 4
}