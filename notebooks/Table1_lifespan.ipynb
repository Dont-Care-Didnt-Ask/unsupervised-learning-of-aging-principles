{
 "cells": [
  {
   "cell_type": "code",
   "execution_count": 1,
   "outputs": [],
   "source": [
    "import warnings\n",
    "warnings.filterwarnings(\"ignore\")\n",
    "import pandas as pd\n",
    "import numpy as np\n",
    "import lifelines\n",
    "from mice_dfi import plots"
   ],
   "metadata": {
    "collapsed": false,
    "pycharm": {
     "name": "#%%\n"
    }
   }
  },
  {
   "cell_type": "markdown",
   "source": [
    "## Load data"
   ],
   "metadata": {
    "collapsed": false,
    "pycharm": {
     "name": "#%% md\n"
    }
   }
  },
  {
   "cell_type": "code",
   "execution_count": 2,
   "outputs": [],
   "source": [
    "df_data_mpd = pd.read_csv('./generated/mpd_data.csv')\n",
    "df_data_mpd = df_data_mpd.dropna(subset=['mort_age'])\n",
    "cbc_features = [ 'gr %', 'gr (k/ul)', 'hb (g/dl)', 'hct %',\n",
    "       'ly %', 'ly (k/ul)', 'mch (pg)', 'mchc (g/dl)', 'mcv(fl)', 'plt (k/ul)',\n",
    "       'rbc (m/ul)', 'wbc (k/ul)']"
   ],
   "metadata": {
    "collapsed": false,
    "pycharm": {
     "name": "#%%\n"
    }
   }
  },
  {
   "cell_type": "markdown",
   "source": [
    "## Train Cox PH model on CBC data"
   ],
   "metadata": {
    "collapsed": false,
    "pycharm": {
     "name": "#%% md\n"
    }
   }
  },
  {
   "cell_type": "code",
   "execution_count": 3,
   "outputs": [
    {
     "data": {
      "text/plain": "<lifelines.CoxPHFitter: fitted with 1066 total observations, 96 right-censored observations>\n             duration col = 'mort_tte'\n                event col = 'mort_event'\n      baseline estimation = breslow\n   number of observations = 1066\nnumber of events observed = 970\n   partial log-likelihood = -5444.79\n         time fit was run = 2022-08-14 12:33:19 UTC\n\n---\n              coef  exp(coef)   se(coef)   coef lower 95%   coef upper 95%  exp(coef) lower 95%  exp(coef) upper 95%\ncovariate                                                                                                           \nage           0.03       1.03       0.00             0.03             0.04                 1.03                 1.04\nsex_int      -0.27       0.76       0.07            -0.42            -0.12                 0.66                 0.88\ngr %          0.10       1.11       0.05            -0.01             0.21                 0.99                 1.23\ngr (k/ul)    -0.60       0.55       0.61            -1.79             0.60                 0.17                 1.82\nhb (g/dl)     0.11       1.12       0.38            -0.64             0.87                 0.53                 2.38\nhct %        -0.02       0.98       0.14            -0.31             0.26                 0.74                 1.29\nly %          0.08       1.08       0.05            -0.03             0.18                 0.97                 1.20\nly (k/ul)    -0.51       0.60       0.59            -1.68             0.65                 0.19                 1.91\nmch (pg)     -0.25       0.78       0.39            -1.01             0.52                 0.36                 1.69\nmchc (g/dl)  -0.01       0.99       0.03            -0.08             0.05                 0.92                 1.05\nmcv(fl)       0.04       1.04       0.14            -0.24             0.32                 0.78                 1.38\nplt (k/ul)   -0.00       1.00       0.00            -0.00            -0.00                 1.00                 1.00\nrbc (m/ul)   -0.40       0.67       0.47            -1.31             0.51                 0.27                 1.67\nwbc (k/ul)    0.52       1.69       0.58            -0.61             1.66                 0.54                 5.28\n\n              cmp to     z      p   -log2(p)\ncovariate                                   \nage             0.00 16.96 <0.005     212.03\nsex_int         0.00 -3.64 <0.005      11.82\ngr %            0.00  1.86   0.06       3.98\ngr (k/ul)       0.00 -0.98   0.33       1.61\nhb (g/dl)       0.00  0.29   0.77       0.38\nhct %           0.00 -0.17   0.86       0.21\nly %            0.00  1.42   0.16       2.69\nly (k/ul)       0.00 -0.87   0.39       1.37\nmch (pg)        0.00 -0.63   0.53       0.92\nmchc (g/dl)     0.00 -0.39   0.70       0.52\nmcv(fl)         0.00  0.26   0.79       0.33\nplt (k/ul)      0.00 -2.93 <0.005       8.21\nrbc (m/ul)      0.00 -0.86   0.39       1.36\nwbc (k/ul)      0.00  0.90   0.37       1.45\n---\nConcordance = 0.75\nPartial AIC = 10917.57\nlog-likelihood ratio test = 620.96 on 14 df\n-log2(p) of ll-ratio test = 407.72",
      "text/html": "<div>\n<style scoped>\n    .dataframe tbody tr th:only-of-type {\n        vertical-align: middle;\n    }\n\n    .dataframe tbody tr th {\n        vertical-align: top;\n    }\n\n    .dataframe thead th {\n        text-align: right;\n    }\n</style>\n<table border=\"1\" class=\"dataframe\">\n  <tbody>\n    <tr>\n      <th>model</th>\n      <td>lifelines.CoxPHFitter</td>\n    </tr>\n    <tr>\n      <th>duration col</th>\n      <td>'mort_tte'</td>\n    </tr>\n    <tr>\n      <th>event col</th>\n      <td>'mort_event'</td>\n    </tr>\n    <tr>\n      <th>baseline estimation</th>\n      <td>breslow</td>\n    </tr>\n    <tr>\n      <th>number of observations</th>\n      <td>1066</td>\n    </tr>\n    <tr>\n      <th>number of events observed</th>\n      <td>970</td>\n    </tr>\n    <tr>\n      <th>partial log-likelihood</th>\n      <td>-5444.79</td>\n    </tr>\n    <tr>\n      <th>time fit was run</th>\n      <td>2022-08-14 12:33:19 UTC</td>\n    </tr>\n  </tbody>\n</table>\n</div><table border=\"1\" class=\"dataframe\">\n  <thead>\n    <tr style=\"text-align: right;\">\n      <th style=\"min-width: 12px;\"></th>\n      <th style=\"min-width: 12px;\">coef</th>\n      <th style=\"min-width: 12px;\">exp(coef)</th>\n      <th style=\"min-width: 12px;\">se(coef)</th>\n      <th style=\"min-width: 12px;\">coef lower 95%</th>\n      <th style=\"min-width: 12px;\">coef upper 95%</th>\n      <th style=\"min-width: 12px;\">exp(coef) lower 95%</th>\n      <th style=\"min-width: 12px;\">exp(coef) upper 95%</th>\n      <th style=\"min-width: 12px;\">cmp to</th>\n      <th style=\"min-width: 12px;\">z</th>\n      <th style=\"min-width: 12px;\">p</th>\n      <th style=\"min-width: 12px;\">-log2(p)</th>\n    </tr>\n  </thead>\n  <tbody>\n    <tr>\n      <th>age</th>\n      <td>0.03</td>\n      <td>1.03</td>\n      <td>0.00</td>\n      <td>0.03</td>\n      <td>0.04</td>\n      <td>1.03</td>\n      <td>1.04</td>\n      <td>0.00</td>\n      <td>16.96</td>\n      <td>&lt;0.005</td>\n      <td>212.03</td>\n    </tr>\n    <tr>\n      <th>sex_int</th>\n      <td>-0.27</td>\n      <td>0.76</td>\n      <td>0.07</td>\n      <td>-0.42</td>\n      <td>-0.12</td>\n      <td>0.66</td>\n      <td>0.88</td>\n      <td>0.00</td>\n      <td>-3.64</td>\n      <td>&lt;0.005</td>\n      <td>11.82</td>\n    </tr>\n    <tr>\n      <th>gr %</th>\n      <td>0.10</td>\n      <td>1.11</td>\n      <td>0.05</td>\n      <td>-0.01</td>\n      <td>0.21</td>\n      <td>0.99</td>\n      <td>1.23</td>\n      <td>0.00</td>\n      <td>1.86</td>\n      <td>0.06</td>\n      <td>3.98</td>\n    </tr>\n    <tr>\n      <th>gr (k/ul)</th>\n      <td>-0.60</td>\n      <td>0.55</td>\n      <td>0.61</td>\n      <td>-1.79</td>\n      <td>0.60</td>\n      <td>0.17</td>\n      <td>1.82</td>\n      <td>0.00</td>\n      <td>-0.98</td>\n      <td>0.33</td>\n      <td>1.61</td>\n    </tr>\n    <tr>\n      <th>hb (g/dl)</th>\n      <td>0.11</td>\n      <td>1.12</td>\n      <td>0.38</td>\n      <td>-0.64</td>\n      <td>0.87</td>\n      <td>0.53</td>\n      <td>2.38</td>\n      <td>0.00</td>\n      <td>0.29</td>\n      <td>0.77</td>\n      <td>0.38</td>\n    </tr>\n    <tr>\n      <th>hct %</th>\n      <td>-0.02</td>\n      <td>0.98</td>\n      <td>0.14</td>\n      <td>-0.31</td>\n      <td>0.26</td>\n      <td>0.74</td>\n      <td>1.29</td>\n      <td>0.00</td>\n      <td>-0.17</td>\n      <td>0.86</td>\n      <td>0.21</td>\n    </tr>\n    <tr>\n      <th>ly %</th>\n      <td>0.08</td>\n      <td>1.08</td>\n      <td>0.05</td>\n      <td>-0.03</td>\n      <td>0.18</td>\n      <td>0.97</td>\n      <td>1.20</td>\n      <td>0.00</td>\n      <td>1.42</td>\n      <td>0.16</td>\n      <td>2.69</td>\n    </tr>\n    <tr>\n      <th>ly (k/ul)</th>\n      <td>-0.51</td>\n      <td>0.60</td>\n      <td>0.59</td>\n      <td>-1.68</td>\n      <td>0.65</td>\n      <td>0.19</td>\n      <td>1.91</td>\n      <td>0.00</td>\n      <td>-0.87</td>\n      <td>0.39</td>\n      <td>1.37</td>\n    </tr>\n    <tr>\n      <th>mch (pg)</th>\n      <td>-0.25</td>\n      <td>0.78</td>\n      <td>0.39</td>\n      <td>-1.01</td>\n      <td>0.52</td>\n      <td>0.36</td>\n      <td>1.69</td>\n      <td>0.00</td>\n      <td>-0.63</td>\n      <td>0.53</td>\n      <td>0.92</td>\n    </tr>\n    <tr>\n      <th>mchc (g/dl)</th>\n      <td>-0.01</td>\n      <td>0.99</td>\n      <td>0.03</td>\n      <td>-0.08</td>\n      <td>0.05</td>\n      <td>0.92</td>\n      <td>1.05</td>\n      <td>0.00</td>\n      <td>-0.39</td>\n      <td>0.70</td>\n      <td>0.52</td>\n    </tr>\n    <tr>\n      <th>mcv(fl)</th>\n      <td>0.04</td>\n      <td>1.04</td>\n      <td>0.14</td>\n      <td>-0.24</td>\n      <td>0.32</td>\n      <td>0.78</td>\n      <td>1.38</td>\n      <td>0.00</td>\n      <td>0.26</td>\n      <td>0.79</td>\n      <td>0.33</td>\n    </tr>\n    <tr>\n      <th>plt (k/ul)</th>\n      <td>-0.00</td>\n      <td>1.00</td>\n      <td>0.00</td>\n      <td>-0.00</td>\n      <td>-0.00</td>\n      <td>1.00</td>\n      <td>1.00</td>\n      <td>0.00</td>\n      <td>-2.93</td>\n      <td>&lt;0.005</td>\n      <td>8.21</td>\n    </tr>\n    <tr>\n      <th>rbc (m/ul)</th>\n      <td>-0.40</td>\n      <td>0.67</td>\n      <td>0.47</td>\n      <td>-1.31</td>\n      <td>0.51</td>\n      <td>0.27</td>\n      <td>1.67</td>\n      <td>0.00</td>\n      <td>-0.86</td>\n      <td>0.39</td>\n      <td>1.36</td>\n    </tr>\n    <tr>\n      <th>wbc (k/ul)</th>\n      <td>0.52</td>\n      <td>1.69</td>\n      <td>0.58</td>\n      <td>-0.61</td>\n      <td>1.66</td>\n      <td>0.54</td>\n      <td>5.28</td>\n      <td>0.00</td>\n      <td>0.90</td>\n      <td>0.37</td>\n      <td>1.45</td>\n    </tr>\n  </tbody>\n</table><br><div>\n<style scoped>\n    .dataframe tbody tr th:only-of-type {\n        vertical-align: middle;\n    }\n\n    .dataframe tbody tr th {\n        vertical-align: top;\n    }\n\n    .dataframe thead th {\n        text-align: right;\n    }\n</style>\n<table border=\"1\" class=\"dataframe\">\n  <tbody>\n    <tr>\n      <th>Concordance</th>\n      <td>0.75</td>\n    </tr>\n    <tr>\n      <th>Partial AIC</th>\n      <td>10917.57</td>\n    </tr>\n    <tr>\n      <th>log-likelihood ratio test</th>\n      <td>620.96 on 14 df</td>\n    </tr>\n    <tr>\n      <th>-log2(p) of ll-ratio test</th>\n      <td>407.72</td>\n    </tr>\n  </tbody>\n</table>\n</div>",
      "text/latex": "\\begin{tabular}{lrrrrrrrrrrr}\n\\toprule\n{} &  coef &  exp(coef) &  se(coef) &  coef lower 95\\% &  coef upper 95\\% &  exp(coef) lower 95\\% &  exp(coef) upper 95\\% &  cmp to &     z &    p &  -log2(p) \\\\\ncovariate   &       &            &           &                 &                 &                      &                      &         &       &      &           \\\\\n\\midrule\nage         &  0.03 &       1.03 &      0.00 &            0.03 &            0.04 &                 1.03 &                 1.04 &    0.00 & 16.96 & 0.00 &    212.03 \\\\\nsex\\_int     & -0.27 &       0.76 &      0.07 &           -0.42 &           -0.12 &                 0.66 &                 0.88 &    0.00 & -3.64 & 0.00 &     11.82 \\\\\ngr \\%        &  0.10 &       1.11 &      0.05 &           -0.01 &            0.21 &                 0.99 &                 1.23 &    0.00 &  1.86 & 0.06 &      3.98 \\\\\ngr (k/ul)   & -0.60 &       0.55 &      0.61 &           -1.79 &            0.60 &                 0.17 &                 1.82 &    0.00 & -0.98 & 0.33 &      1.61 \\\\\nhb (g/dl)   &  0.11 &       1.12 &      0.38 &           -0.64 &            0.87 &                 0.53 &                 2.38 &    0.00 &  0.29 & 0.77 &      0.38 \\\\\nhct \\%       & -0.02 &       0.98 &      0.14 &           -0.31 &            0.26 &                 0.74 &                 1.29 &    0.00 & -0.17 & 0.86 &      0.21 \\\\\nly \\%        &  0.08 &       1.08 &      0.05 &           -0.03 &            0.18 &                 0.97 &                 1.20 &    0.00 &  1.42 & 0.16 &      2.69 \\\\\nly (k/ul)   & -0.51 &       0.60 &      0.59 &           -1.68 &            0.65 &                 0.19 &                 1.91 &    0.00 & -0.87 & 0.39 &      1.37 \\\\\nmch (pg)    & -0.25 &       0.78 &      0.39 &           -1.01 &            0.52 &                 0.36 &                 1.69 &    0.00 & -0.63 & 0.53 &      0.92 \\\\\nmchc (g/dl) & -0.01 &       0.99 &      0.03 &           -0.08 &            0.05 &                 0.92 &                 1.05 &    0.00 & -0.39 & 0.70 &      0.52 \\\\\nmcv(fl)     &  0.04 &       1.04 &      0.14 &           -0.24 &            0.32 &                 0.78 &                 1.38 &    0.00 &  0.26 & 0.79 &      0.33 \\\\\nplt (k/ul)  & -0.00 &       1.00 &      0.00 &           -0.00 &           -0.00 &                 1.00 &                 1.00 &    0.00 & -2.93 & 0.00 &      8.21 \\\\\nrbc (m/ul)  & -0.40 &       0.67 &      0.47 &           -1.31 &            0.51 &                 0.27 &                 1.67 &    0.00 & -0.86 & 0.39 &      1.36 \\\\\nwbc (k/ul)  &  0.52 &       1.69 &      0.58 &           -0.61 &            1.66 &                 0.54 &                 5.28 &    0.00 &  0.90 & 0.37 &      1.45 \\\\\n\\bottomrule\n\\end{tabular}\n"
     },
     "metadata": {},
     "output_type": "display_data"
    },
    {
     "data": {
      "text/plain": "<lifelines.CoxPHFitter: fitted with 1066 total observations, 96 right-censored observations>\n             duration col = 'mort_tte'\n                event col = 'mort_event'\n      baseline estimation = breslow\n   number of observations = 1066\nnumber of events observed = 970\n   partial log-likelihood = -5588.72\n         time fit was run = 2022-08-14 12:33:19 UTC\n\n---\n              coef  exp(coef)   se(coef)   coef lower 95%   coef upper 95%  exp(coef) lower 95%  exp(coef) upper 95%\ncovariate                                                                                                           \nsex_int      -0.44       0.64       0.07            -0.58            -0.29                 0.56                 0.75\ngr %          0.02       1.02       0.05            -0.09             0.12                 0.92                 1.13\ngr (k/ul)    -0.56       0.57       0.60            -1.74             0.62                 0.18                 1.86\nhb (g/dl)    -0.78       0.46       0.36            -1.48            -0.07                 0.23                 0.93\nhct %         0.18       1.20       0.14            -0.08             0.45                 0.92                 1.57\nly %         -0.02       0.98       0.05            -0.12             0.08                 0.89                 1.09\nly (k/ul)    -0.47       0.63       0.59            -1.63             0.70                 0.20                 2.01\nmch (pg)      0.33       1.39       0.37            -0.39             1.05                 0.67                 2.86\nmchc (g/dl)   0.09       1.09       0.03             0.02             0.15                 1.02                 1.16\nmcv(fl)      -0.07       0.93       0.14            -0.34             0.20                 0.71                 1.22\nplt (k/ul)    0.00       1.00       0.00             0.00             0.00                 1.00                 1.00\nrbc (m/ul)   -0.05       0.95       0.46            -0.95             0.85                 0.39                 2.34\nwbc (k/ul)    0.49       1.63       0.58            -0.65             1.62                 0.52                 5.06\n\n              cmp to     z      p   -log2(p)\ncovariate                                   \nsex_int         0.00 -5.88 <0.005      27.82\ngr %            0.00  0.35   0.73       0.46\ngr (k/ul)       0.00 -0.93   0.35       1.50\nhb (g/dl)       0.00 -2.16   0.03       5.03\nhct %           0.00  1.35   0.18       2.50\nly %            0.00 -0.36   0.72       0.47\nly (k/ul)       0.00 -0.78   0.43       1.21\nmch (pg)        0.00  0.89   0.37       1.43\nmchc (g/dl)     0.00  2.67   0.01       7.03\nmcv(fl)         0.00 -0.51   0.61       0.71\nplt (k/ul)      0.00  3.64 <0.005      11.85\nrbc (m/ul)      0.00 -0.11   0.91       0.14\nwbc (k/ul)      0.00  0.84   0.40       1.32\n---\nConcordance = 0.69\nPartial AIC = 11203.44\nlog-likelihood ratio test = 333.10 on 13 df\n-log2(p) of ll-ratio test = 207.81",
      "text/html": "<div>\n<style scoped>\n    .dataframe tbody tr th:only-of-type {\n        vertical-align: middle;\n    }\n\n    .dataframe tbody tr th {\n        vertical-align: top;\n    }\n\n    .dataframe thead th {\n        text-align: right;\n    }\n</style>\n<table border=\"1\" class=\"dataframe\">\n  <tbody>\n    <tr>\n      <th>model</th>\n      <td>lifelines.CoxPHFitter</td>\n    </tr>\n    <tr>\n      <th>duration col</th>\n      <td>'mort_tte'</td>\n    </tr>\n    <tr>\n      <th>event col</th>\n      <td>'mort_event'</td>\n    </tr>\n    <tr>\n      <th>baseline estimation</th>\n      <td>breslow</td>\n    </tr>\n    <tr>\n      <th>number of observations</th>\n      <td>1066</td>\n    </tr>\n    <tr>\n      <th>number of events observed</th>\n      <td>970</td>\n    </tr>\n    <tr>\n      <th>partial log-likelihood</th>\n      <td>-5588.72</td>\n    </tr>\n    <tr>\n      <th>time fit was run</th>\n      <td>2022-08-14 12:33:19 UTC</td>\n    </tr>\n  </tbody>\n</table>\n</div><table border=\"1\" class=\"dataframe\">\n  <thead>\n    <tr style=\"text-align: right;\">\n      <th style=\"min-width: 12px;\"></th>\n      <th style=\"min-width: 12px;\">coef</th>\n      <th style=\"min-width: 12px;\">exp(coef)</th>\n      <th style=\"min-width: 12px;\">se(coef)</th>\n      <th style=\"min-width: 12px;\">coef lower 95%</th>\n      <th style=\"min-width: 12px;\">coef upper 95%</th>\n      <th style=\"min-width: 12px;\">exp(coef) lower 95%</th>\n      <th style=\"min-width: 12px;\">exp(coef) upper 95%</th>\n      <th style=\"min-width: 12px;\">cmp to</th>\n      <th style=\"min-width: 12px;\">z</th>\n      <th style=\"min-width: 12px;\">p</th>\n      <th style=\"min-width: 12px;\">-log2(p)</th>\n    </tr>\n  </thead>\n  <tbody>\n    <tr>\n      <th>sex_int</th>\n      <td>-0.44</td>\n      <td>0.64</td>\n      <td>0.07</td>\n      <td>-0.58</td>\n      <td>-0.29</td>\n      <td>0.56</td>\n      <td>0.75</td>\n      <td>0.00</td>\n      <td>-5.88</td>\n      <td>&lt;0.005</td>\n      <td>27.82</td>\n    </tr>\n    <tr>\n      <th>gr %</th>\n      <td>0.02</td>\n      <td>1.02</td>\n      <td>0.05</td>\n      <td>-0.09</td>\n      <td>0.12</td>\n      <td>0.92</td>\n      <td>1.13</td>\n      <td>0.00</td>\n      <td>0.35</td>\n      <td>0.73</td>\n      <td>0.46</td>\n    </tr>\n    <tr>\n      <th>gr (k/ul)</th>\n      <td>-0.56</td>\n      <td>0.57</td>\n      <td>0.60</td>\n      <td>-1.74</td>\n      <td>0.62</td>\n      <td>0.18</td>\n      <td>1.86</td>\n      <td>0.00</td>\n      <td>-0.93</td>\n      <td>0.35</td>\n      <td>1.50</td>\n    </tr>\n    <tr>\n      <th>hb (g/dl)</th>\n      <td>-0.78</td>\n      <td>0.46</td>\n      <td>0.36</td>\n      <td>-1.48</td>\n      <td>-0.07</td>\n      <td>0.23</td>\n      <td>0.93</td>\n      <td>0.00</td>\n      <td>-2.16</td>\n      <td>0.03</td>\n      <td>5.03</td>\n    </tr>\n    <tr>\n      <th>hct %</th>\n      <td>0.18</td>\n      <td>1.20</td>\n      <td>0.14</td>\n      <td>-0.08</td>\n      <td>0.45</td>\n      <td>0.92</td>\n      <td>1.57</td>\n      <td>0.00</td>\n      <td>1.35</td>\n      <td>0.18</td>\n      <td>2.50</td>\n    </tr>\n    <tr>\n      <th>ly %</th>\n      <td>-0.02</td>\n      <td>0.98</td>\n      <td>0.05</td>\n      <td>-0.12</td>\n      <td>0.08</td>\n      <td>0.89</td>\n      <td>1.09</td>\n      <td>0.00</td>\n      <td>-0.36</td>\n      <td>0.72</td>\n      <td>0.47</td>\n    </tr>\n    <tr>\n      <th>ly (k/ul)</th>\n      <td>-0.47</td>\n      <td>0.63</td>\n      <td>0.59</td>\n      <td>-1.63</td>\n      <td>0.70</td>\n      <td>0.20</td>\n      <td>2.01</td>\n      <td>0.00</td>\n      <td>-0.78</td>\n      <td>0.43</td>\n      <td>1.21</td>\n    </tr>\n    <tr>\n      <th>mch (pg)</th>\n      <td>0.33</td>\n      <td>1.39</td>\n      <td>0.37</td>\n      <td>-0.39</td>\n      <td>1.05</td>\n      <td>0.67</td>\n      <td>2.86</td>\n      <td>0.00</td>\n      <td>0.89</td>\n      <td>0.37</td>\n      <td>1.43</td>\n    </tr>\n    <tr>\n      <th>mchc (g/dl)</th>\n      <td>0.09</td>\n      <td>1.09</td>\n      <td>0.03</td>\n      <td>0.02</td>\n      <td>0.15</td>\n      <td>1.02</td>\n      <td>1.16</td>\n      <td>0.00</td>\n      <td>2.67</td>\n      <td>0.01</td>\n      <td>7.03</td>\n    </tr>\n    <tr>\n      <th>mcv(fl)</th>\n      <td>-0.07</td>\n      <td>0.93</td>\n      <td>0.14</td>\n      <td>-0.34</td>\n      <td>0.20</td>\n      <td>0.71</td>\n      <td>1.22</td>\n      <td>0.00</td>\n      <td>-0.51</td>\n      <td>0.61</td>\n      <td>0.71</td>\n    </tr>\n    <tr>\n      <th>plt (k/ul)</th>\n      <td>0.00</td>\n      <td>1.00</td>\n      <td>0.00</td>\n      <td>0.00</td>\n      <td>0.00</td>\n      <td>1.00</td>\n      <td>1.00</td>\n      <td>0.00</td>\n      <td>3.64</td>\n      <td>&lt;0.005</td>\n      <td>11.85</td>\n    </tr>\n    <tr>\n      <th>rbc (m/ul)</th>\n      <td>-0.05</td>\n      <td>0.95</td>\n      <td>0.46</td>\n      <td>-0.95</td>\n      <td>0.85</td>\n      <td>0.39</td>\n      <td>2.34</td>\n      <td>0.00</td>\n      <td>-0.11</td>\n      <td>0.91</td>\n      <td>0.14</td>\n    </tr>\n    <tr>\n      <th>wbc (k/ul)</th>\n      <td>0.49</td>\n      <td>1.63</td>\n      <td>0.58</td>\n      <td>-0.65</td>\n      <td>1.62</td>\n      <td>0.52</td>\n      <td>5.06</td>\n      <td>0.00</td>\n      <td>0.84</td>\n      <td>0.40</td>\n      <td>1.32</td>\n    </tr>\n  </tbody>\n</table><br><div>\n<style scoped>\n    .dataframe tbody tr th:only-of-type {\n        vertical-align: middle;\n    }\n\n    .dataframe tbody tr th {\n        vertical-align: top;\n    }\n\n    .dataframe thead th {\n        text-align: right;\n    }\n</style>\n<table border=\"1\" class=\"dataframe\">\n  <tbody>\n    <tr>\n      <th>Concordance</th>\n      <td>0.69</td>\n    </tr>\n    <tr>\n      <th>Partial AIC</th>\n      <td>11203.44</td>\n    </tr>\n    <tr>\n      <th>log-likelihood ratio test</th>\n      <td>333.10 on 13 df</td>\n    </tr>\n    <tr>\n      <th>-log2(p) of ll-ratio test</th>\n      <td>207.81</td>\n    </tr>\n  </tbody>\n</table>\n</div>",
      "text/latex": "\\begin{tabular}{lrrrrrrrrrrr}\n\\toprule\n{} &  coef &  exp(coef) &  se(coef) &  coef lower 95\\% &  coef upper 95\\% &  exp(coef) lower 95\\% &  exp(coef) upper 95\\% &  cmp to &     z &    p &  -log2(p) \\\\\ncovariate   &       &            &           &                 &                 &                      &                      &         &       &      &           \\\\\n\\midrule\nsex\\_int     & -0.44 &       0.64 &      0.07 &           -0.58 &           -0.29 &                 0.56 &                 0.75 &    0.00 & -5.88 & 0.00 &     27.82 \\\\\ngr \\%        &  0.02 &       1.02 &      0.05 &           -0.09 &            0.12 &                 0.92 &                 1.13 &    0.00 &  0.35 & 0.73 &      0.46 \\\\\ngr (k/ul)   & -0.56 &       0.57 &      0.60 &           -1.74 &            0.62 &                 0.18 &                 1.86 &    0.00 & -0.93 & 0.35 &      1.50 \\\\\nhb (g/dl)   & -0.78 &       0.46 &      0.36 &           -1.48 &           -0.07 &                 0.23 &                 0.93 &    0.00 & -2.16 & 0.03 &      5.03 \\\\\nhct \\%       &  0.18 &       1.20 &      0.14 &           -0.08 &            0.45 &                 0.92 &                 1.57 &    0.00 &  1.35 & 0.18 &      2.50 \\\\\nly \\%        & -0.02 &       0.98 &      0.05 &           -0.12 &            0.08 &                 0.89 &                 1.09 &    0.00 & -0.36 & 0.72 &      0.47 \\\\\nly (k/ul)   & -0.47 &       0.63 &      0.59 &           -1.63 &            0.70 &                 0.20 &                 2.01 &    0.00 & -0.78 & 0.43 &      1.21 \\\\\nmch (pg)    &  0.33 &       1.39 &      0.37 &           -0.39 &            1.05 &                 0.67 &                 2.86 &    0.00 &  0.89 & 0.37 &      1.43 \\\\\nmchc (g/dl) &  0.09 &       1.09 &      0.03 &            0.02 &            0.15 &                 1.02 &                 1.16 &    0.00 &  2.67 & 0.01 &      7.03 \\\\\nmcv(fl)     & -0.07 &       0.93 &      0.14 &           -0.34 &            0.20 &                 0.71 &                 1.22 &    0.00 & -0.51 & 0.61 &      0.71 \\\\\nplt (k/ul)  &  0.00 &       1.00 &      0.00 &            0.00 &            0.00 &                 1.00 &                 1.00 &    0.00 &  3.64 & 0.00 &     11.85 \\\\\nrbc (m/ul)  & -0.05 &       0.95 &      0.46 &           -0.95 &            0.85 &                 0.39 &                 2.34 &    0.00 & -0.11 & 0.91 &      0.14 \\\\\nwbc (k/ul)  &  0.49 &       1.63 &      0.58 &           -0.65 &            1.62 &                 0.52 &                 5.06 &    0.00 &  0.84 & 0.40 &      1.32 \\\\\n\\bottomrule\n\\end{tabular}\n"
     },
     "metadata": {},
     "output_type": "display_data"
    }
   ],
   "source": [
    "cox = lifelines.CoxPHFitter()\n",
    "df_ = df_data_mpd.copy()\n",
    "df_.loc[df_.sex=='M', 'sex_int'] = 1\n",
    "df_.loc[df_.sex=='F', 'sex_int'] = 0\n",
    "df_ = df_.dropna(subset=cbc_features + ['mort_tte', 'mort_event'])\n",
    "\n",
    "# Cox PH model including age and sex\n",
    "cox.fit(df_[['age', 'sex_int', 'mort_tte', 'mort_event'] + cbc_features], 'mort_tte', 'mort_event')\n",
    "cox.print_summary(style=None)\n",
    "betas = np.array(cox.summary['coef'].loc[cbc_features])\n",
    "df_data_mpd['Cox PH'] = np.dot(df_data_mpd[cbc_features], betas)\n",
    "\n",
    "# Cox PH model including sex\n",
    "cox.fit(df_[['sex_int', 'mort_tte', 'mort_event'] + cbc_features], 'mort_tte', 'mort_event')\n",
    "cox.print_summary(style=None)\n",
    "betas = np.array(cox.summary['coef'].loc[cbc_features])\n",
    "df_data_mpd['Cox PH (no age)'] = np.dot(df_data_mpd[cbc_features], betas)"
   ],
   "metadata": {
    "collapsed": false,
    "pycharm": {
     "name": "#%%\n"
    }
   }
  },
  {
   "cell_type": "markdown",
   "source": [
    "## Calculate spearman’s rank-order test (table 1)"
   ],
   "metadata": {
    "collapsed": false,
    "pycharm": {
     "name": "#%% md\n"
    }
   }
  },
  {
   "cell_type": "code",
   "execution_count": 4,
   "outputs": [
    {
     "name": "stdout",
     "output_type": "stream",
     "text": [
      "N strains males 27, N strains females 29\n"
     ]
    },
    {
     "data": {
      "text/plain": "<pandas.io.formats.style.Styler at 0x7f296f10d460>",
      "text/html": "<style type=\"text/css\">\n#T_93f69_row0_col0, #T_93f69_row0_col1, #T_93f69_row0_col2, #T_93f69_row0_col3, #T_93f69_row0_col4, #T_93f69_row0_col5, #T_93f69_row2_col1, #T_93f69_row3_col0, #T_93f69_row3_col1, #T_93f69_row3_col2, #T_93f69_row3_col3, #T_93f69_row3_col4, #T_93f69_row3_col5, #T_93f69_row5_col1, #T_93f69_row6_col1, #T_93f69_row6_col2, #T_93f69_row6_col3, #T_93f69_row6_col4, #T_93f69_row6_col5, #T_93f69_row7_col4, #T_93f69_row7_col5 {\n  font-weight: ;\n}\n#T_93f69_row1_col0, #T_93f69_row1_col1, #T_93f69_row1_col2, #T_93f69_row1_col3, #T_93f69_row1_col4, #T_93f69_row1_col5, #T_93f69_row2_col0, #T_93f69_row2_col2, #T_93f69_row2_col3, #T_93f69_row2_col4, #T_93f69_row2_col5, #T_93f69_row4_col0, #T_93f69_row4_col1, #T_93f69_row4_col2, #T_93f69_row4_col3, #T_93f69_row4_col4, #T_93f69_row4_col5, #T_93f69_row5_col0, #T_93f69_row5_col2, #T_93f69_row5_col3, #T_93f69_row5_col4, #T_93f69_row5_col5, #T_93f69_row6_col0, #T_93f69_row7_col0, #T_93f69_row7_col1, #T_93f69_row7_col2, #T_93f69_row7_col3 {\n  font-weight: bold;\n}\n</style>\n<table id=\"T_93f69\">\n  <thead>\n    <tr>\n      <th class=\"blank level0\" >&nbsp;</th>\n      <th id=\"T_93f69_level0_col0\" class=\"col_heading level0 col0\" >M (26 w)</th>\n      <th id=\"T_93f69_level0_col1\" class=\"col_heading level0 col1\" >F (26 w)</th>\n      <th id=\"T_93f69_level0_col2\" class=\"col_heading level0 col2\" >M (52 w)</th>\n      <th id=\"T_93f69_level0_col3\" class=\"col_heading level0 col3\" >F (52 w)</th>\n      <th id=\"T_93f69_level0_col4\" class=\"col_heading level0 col4\" >M (78 w)</th>\n      <th id=\"T_93f69_level0_col5\" class=\"col_heading level0 col5\" >F (78 w)</th>\n    </tr>\n  </thead>\n  <tbody>\n    <tr>\n      <th id=\"T_93f69_level0_row0\" class=\"row_heading level0 row0\" >Cohort size 1</th>\n      <td id=\"T_93f69_row0_col0\" class=\"data row0 col0\" >91</td>\n      <td id=\"T_93f69_row0_col1\" class=\"data row0 col1\" >125</td>\n      <td id=\"T_93f69_row0_col2\" class=\"data row0 col2\" >148</td>\n      <td id=\"T_93f69_row0_col3\" class=\"data row0 col3\" >188</td>\n      <td id=\"T_93f69_row0_col4\" class=\"data row0 col4\" >173</td>\n      <td id=\"T_93f69_row0_col5\" class=\"data row0 col5\" >150</td>\n    </tr>\n    <tr>\n      <th id=\"T_93f69_level0_row1\" class=\"row_heading level0 row1\" >dFI (all mice)</th>\n      <td id=\"T_93f69_row1_col0\" class=\"data row1 col0\" >-0.31 (2.9e-03)</td>\n      <td id=\"T_93f69_row1_col1\" class=\"data row1 col1\" >-0.18 (4.8e-02)</td>\n      <td id=\"T_93f69_row1_col2\" class=\"data row1 col2\" >-0.38 (2.2e-06)</td>\n      <td id=\"T_93f69_row1_col3\" class=\"data row1 col3\" >-0.23 (1.4e-03)</td>\n      <td id=\"T_93f69_row1_col4\" class=\"data row1 col4\" >-0.37 (7.8e-07)</td>\n      <td id=\"T_93f69_row1_col5\" class=\"data row1 col5\" >-0.28 (5.2e-04)</td>\n    </tr>\n    <tr>\n      <th id=\"T_93f69_level0_row2\" class=\"row_heading level0 row2\" >Cox PH (all mice)</th>\n      <td id=\"T_93f69_row2_col0\" class=\"data row2 col0\" >-0.31 (2.5e-03)</td>\n      <td id=\"T_93f69_row2_col1\" class=\"data row2 col1\" >-0.10 (2.6e-01)</td>\n      <td id=\"T_93f69_row2_col2\" class=\"data row2 col2\" >-0.41 (3.2e-07)</td>\n      <td id=\"T_93f69_row2_col3\" class=\"data row2 col3\" >-0.20 (6.4e-03)</td>\n      <td id=\"T_93f69_row2_col4\" class=\"data row2 col4\" >-0.37 (4.6e-07)</td>\n      <td id=\"T_93f69_row2_col5\" class=\"data row2 col5\" >-0.35 (1.5e-05)</td>\n    </tr>\n    <tr>\n      <th id=\"T_93f69_level0_row3\" class=\"row_heading level0 row3\" >Cohort size 2</th>\n      <td id=\"T_93f69_row3_col0\" class=\"data row3 col0\" >79</td>\n      <td id=\"T_93f69_row3_col1\" class=\"data row3 col1\" >118</td>\n      <td id=\"T_93f69_row3_col2\" class=\"data row3 col2\" >139</td>\n      <td id=\"T_93f69_row3_col3\" class=\"data row3 col3\" >177</td>\n      <td id=\"T_93f69_row3_col4\" class=\"data row3 col4\" >133</td>\n      <td id=\"T_93f69_row3_col5\" class=\"data row3 col5\" >129</td>\n    </tr>\n    <tr>\n      <th id=\"T_93f69_level0_row4\" class=\"row_heading level0 row4\" >dFI (IGF1 subset)</th>\n      <td id=\"T_93f69_row4_col0\" class=\"data row4 col0\" >-0.34 (2.4e-03)</td>\n      <td id=\"T_93f69_row4_col1\" class=\"data row4 col1\" >-0.21 (2.1e-02)</td>\n      <td id=\"T_93f69_row4_col2\" class=\"data row4 col2\" >-0.37 (6.3e-06)</td>\n      <td id=\"T_93f69_row4_col3\" class=\"data row4 col3\" >-0.25 (7.8e-04)</td>\n      <td id=\"T_93f69_row4_col4\" class=\"data row4 col4\" >-0.32 (1.8e-04)</td>\n      <td id=\"T_93f69_row4_col5\" class=\"data row4 col5\" >-0.31 (3.2e-04)</td>\n    </tr>\n    <tr>\n      <th id=\"T_93f69_level0_row5\" class=\"row_heading level0 row5\" >Cox PH (IGF1 subset)</th>\n      <td id=\"T_93f69_row5_col0\" class=\"data row5 col0\" >-0.31 (5.9e-03)</td>\n      <td id=\"T_93f69_row5_col1\" class=\"data row5 col1\" >-0.14 (1.2e-01)</td>\n      <td id=\"T_93f69_row5_col2\" class=\"data row5 col2\" >-0.40 (9.2e-07)</td>\n      <td id=\"T_93f69_row5_col3\" class=\"data row5 col3\" >-0.22 (3.8e-03)</td>\n      <td id=\"T_93f69_row5_col4\" class=\"data row5 col4\" >-0.31 (3.5e-04)</td>\n      <td id=\"T_93f69_row5_col5\" class=\"data row5 col5\" >-0.39 (6.4e-06)</td>\n    </tr>\n    <tr>\n      <th id=\"T_93f69_level0_row6\" class=\"row_heading level0 row6\" >IGF1</th>\n      <td id=\"T_93f69_row6_col0\" class=\"data row6 col0\" >-0.28 (7.7e-03)</td>\n      <td id=\"T_93f69_row6_col1\" class=\"data row6 col1\" >-0.17 (6.9e-02)</td>\n      <td id=\"T_93f69_row6_col2\" class=\"data row6 col2\" >-0.12 (1.4e-01)</td>\n      <td id=\"T_93f69_row6_col3\" class=\"data row6 col3\" >-0.11 (1.2e-01)</td>\n      <td id=\"T_93f69_row6_col4\" class=\"data row6 col4\" >0.04 (6.9e-01)</td>\n      <td id=\"T_93f69_row6_col5\" class=\"data row6 col5\" >0.05 (5.6e-01)</td>\n    </tr>\n    <tr>\n      <th id=\"T_93f69_level0_row7\" class=\"row_heading level0 row7\" >Body weight</th>\n      <td id=\"T_93f69_row7_col0\" class=\"data row7 col0\" >-0.26 (1.3e-02)</td>\n      <td id=\"T_93f69_row7_col1\" class=\"data row7 col1\" >-0.19 (3.3e-02)</td>\n      <td id=\"T_93f69_row7_col2\" class=\"data row7 col2\" >-0.25 (3.0e-03)</td>\n      <td id=\"T_93f69_row7_col3\" class=\"data row7 col3\" >-0.24 (9.7e-04)</td>\n      <td id=\"T_93f69_row7_col4\" class=\"data row7 col4\" >0.03 (6.9e-01)</td>\n      <td id=\"T_93f69_row7_col5\" class=\"data row7 col5\" >0.04 (6.8e-01)</td>\n    </tr>\n  </tbody>\n</table>\n"
     },
     "metadata": {},
     "output_type": "display_data"
    }
   ],
   "source": [
    "res_spear, latex_spear = plots.table_MPD_survival(df_data_mpd, ['dFI', 'Cox PH'], return_latex=True, fmt='exp')\n",
    "display(res_spear)\n",
    "try:\n",
    "    # res_spear.clear()\n",
    "    with pd.ExcelWriter('./source/table1_lifespan_mpd.xlsx', engine=\"openpyxl\",  mode=\"a\", if_sheet_exists=\"replace\") as writer:\n",
    "        res_spear.to_excel(writer)\n",
    "except FileNotFoundError:\n",
    "    with pd.ExcelWriter('./source/table1_lifespan_mpd.xlsx', engine=\"openpyxl\") as writer:\n",
    "        res_spear.to_excel(writer)"
   ],
   "metadata": {
    "collapsed": false,
    "pycharm": {
     "name": "#%%\n"
    }
   }
  },
  {
   "cell_type": "code",
   "execution_count": 5,
   "outputs": [],
   "source": [
    "with open('figs/table1_dfi_spear.tex', 'wt') as f:\n",
    "    f.writelines(latex_spear)"
   ],
   "metadata": {
    "collapsed": false,
    "pycharm": {
     "name": "#%%\n"
    }
   }
  },
  {
   "cell_type": "markdown",
   "source": [
    "## Calculate Cox PH model and show concordance index (table s6)"
   ],
   "metadata": {
    "collapsed": false,
    "pycharm": {
     "name": "#%% md\n"
    }
   }
  },
  {
   "cell_type": "code",
   "execution_count": 6,
   "outputs": [
    {
     "name": "stdout",
     "output_type": "stream",
     "text": [
      "N strains males 27, N strains females 29\n"
     ]
    },
    {
     "data": {
      "text/plain": "<pandas.io.formats.style.Styler at 0x7f296e9ec4c0>",
      "text/html": "<style type=\"text/css\">\n#T_31344_row0_col0, #T_31344_row0_col1, #T_31344_row0_col2, #T_31344_row0_col3, #T_31344_row0_col4, #T_31344_row0_col5, #T_31344_row3_col0, #T_31344_row3_col1, #T_31344_row3_col2, #T_31344_row3_col3, #T_31344_row3_col4, #T_31344_row3_col5, #T_31344_row6_col2, #T_31344_row6_col4, #T_31344_row6_col5, #T_31344_row7_col4, #T_31344_row7_col5 {\n  font-weight: ;\n}\n#T_31344_row1_col0, #T_31344_row1_col1, #T_31344_row1_col2, #T_31344_row1_col3, #T_31344_row1_col4, #T_31344_row1_col5, #T_31344_row2_col0, #T_31344_row2_col1, #T_31344_row2_col2, #T_31344_row2_col3, #T_31344_row2_col4, #T_31344_row2_col5, #T_31344_row4_col0, #T_31344_row4_col1, #T_31344_row4_col2, #T_31344_row4_col3, #T_31344_row4_col4, #T_31344_row4_col5, #T_31344_row5_col0, #T_31344_row5_col1, #T_31344_row5_col2, #T_31344_row5_col3, #T_31344_row5_col4, #T_31344_row5_col5, #T_31344_row6_col0, #T_31344_row6_col1, #T_31344_row6_col3, #T_31344_row7_col0, #T_31344_row7_col1, #T_31344_row7_col2, #T_31344_row7_col3 {\n  font-weight: bold;\n}\n</style>\n<table id=\"T_31344\">\n  <thead>\n    <tr>\n      <th class=\"blank level0\" >&nbsp;</th>\n      <th id=\"T_31344_level0_col0\" class=\"col_heading level0 col0\" >M (26 w)</th>\n      <th id=\"T_31344_level0_col1\" class=\"col_heading level0 col1\" >F (26 w)</th>\n      <th id=\"T_31344_level0_col2\" class=\"col_heading level0 col2\" >M (52 w)</th>\n      <th id=\"T_31344_level0_col3\" class=\"col_heading level0 col3\" >F (52 w)</th>\n      <th id=\"T_31344_level0_col4\" class=\"col_heading level0 col4\" >M (78 w)</th>\n      <th id=\"T_31344_level0_col5\" class=\"col_heading level0 col5\" >F (78 w)</th>\n    </tr>\n  </thead>\n  <tbody>\n    <tr>\n      <th id=\"T_31344_level0_row0\" class=\"row_heading level0 row0\" >Cohort size 1</th>\n      <td id=\"T_31344_row0_col0\" class=\"data row0 col0\" >91</td>\n      <td id=\"T_31344_row0_col1\" class=\"data row0 col1\" >125</td>\n      <td id=\"T_31344_row0_col2\" class=\"data row0 col2\" >148</td>\n      <td id=\"T_31344_row0_col3\" class=\"data row0 col3\" >188</td>\n      <td id=\"T_31344_row0_col4\" class=\"data row0 col4\" >173</td>\n      <td id=\"T_31344_row0_col5\" class=\"data row0 col5\" >150</td>\n    </tr>\n    <tr>\n      <th id=\"T_31344_level0_row1\" class=\"row_heading level0 row1\" >dFI (all mice)</th>\n      <td id=\"T_31344_row1_col0\" class=\"data row1 col0\" >1.37, (1.12‒1.68, p=2.6e-03)</td>\n      <td id=\"T_31344_row1_col1\" class=\"data row1 col1\" >1.25, (1.05‒1.49, p=1.1e-02)</td>\n      <td id=\"T_31344_row1_col2\" class=\"data row1 col2\" >1.72, (1.42‒2.08, p=3.5e-08)</td>\n      <td id=\"T_31344_row1_col3\" class=\"data row1 col3\" >1.29, (1.11‒1.51, p=1.0e-03)</td>\n      <td id=\"T_31344_row1_col4\" class=\"data row1 col4\" >1.53, (1.27‒1.83, p=4.8e-06)</td>\n      <td id=\"T_31344_row1_col5\" class=\"data row1 col5\" >1.44, (1.20‒1.73, p=1.0e-04)</td>\n    </tr>\n    <tr>\n      <th id=\"T_31344_level0_row2\" class=\"row_heading level0 row2\" >Cox PH (all mice)</th>\n      <td id=\"T_31344_row2_col0\" class=\"data row2 col0\" >1.45, (1.16‒1.82, p=1.1e-03)</td>\n      <td id=\"T_31344_row2_col1\" class=\"data row2 col1\" >1.21, (1.02‒1.44, p=2.6e-02)</td>\n      <td id=\"T_31344_row2_col2\" class=\"data row2 col2\" >1.70, (1.44‒2.00, p=1.9e-10)</td>\n      <td id=\"T_31344_row2_col3\" class=\"data row2 col3\" >1.39, (1.19‒1.63, p=3.6e-05)</td>\n      <td id=\"T_31344_row2_col4\" class=\"data row2 col4\" >1.71, (1.44‒2.02, p=4.5e-10)</td>\n      <td id=\"T_31344_row2_col5\" class=\"data row2 col5\" >1.71, (1.43‒2.05, p=3.4e-09)</td>\n    </tr>\n    <tr>\n      <th id=\"T_31344_level0_row3\" class=\"row_heading level0 row3\" >Cohort size 2</th>\n      <td id=\"T_31344_row3_col0\" class=\"data row3 col0\" >79</td>\n      <td id=\"T_31344_row3_col1\" class=\"data row3 col1\" >118</td>\n      <td id=\"T_31344_row3_col2\" class=\"data row3 col2\" >139</td>\n      <td id=\"T_31344_row3_col3\" class=\"data row3 col3\" >177</td>\n      <td id=\"T_31344_row3_col4\" class=\"data row3 col4\" >133</td>\n      <td id=\"T_31344_row3_col5\" class=\"data row3 col5\" >129</td>\n    </tr>\n    <tr>\n      <th id=\"T_31344_level0_row4\" class=\"row_heading level0 row4\" >dFI (IGF1 subset)</th>\n      <td id=\"T_31344_row4_col0\" class=\"data row4 col0\" >1.39, (1.12‒1.73, p=3.4e-03)</td>\n      <td id=\"T_31344_row4_col1\" class=\"data row4 col1\" >1.28, (1.07‒1.52, p=7.1e-03)</td>\n      <td id=\"T_31344_row4_col2\" class=\"data row4 col2\" >1.77, (1.44‒2.18, p=4.4e-08)</td>\n      <td id=\"T_31344_row4_col3\" class=\"data row4 col3\" >1.32, (1.14‒1.54, p=3.3e-04)</td>\n      <td id=\"T_31344_row4_col4\" class=\"data row4 col4\" >1.36, (1.12‒1.64, p=1.5e-03)</td>\n      <td id=\"T_31344_row4_col5\" class=\"data row4 col5\" >1.43, (1.18‒1.74, p=2.8e-04)</td>\n    </tr>\n    <tr>\n      <th id=\"T_31344_level0_row5\" class=\"row_heading level0 row5\" >Cox PH (IGF1 subset)</th>\n      <td id=\"T_31344_row5_col0\" class=\"data row5 col0\" >1.46, (1.14‒1.86, p=2.5e-03)</td>\n      <td id=\"T_31344_row5_col1\" class=\"data row5 col1\" >1.22, (1.03‒1.45, p=2.1e-02)</td>\n      <td id=\"T_31344_row5_col2\" class=\"data row5 col2\" >1.83, (1.54‒2.19, p=2.1e-11)</td>\n      <td id=\"T_31344_row5_col3\" class=\"data row5 col3\" >1.43, (1.22‒1.68, p=1.4e-05)</td>\n      <td id=\"T_31344_row5_col4\" class=\"data row5 col4\" >1.42, (1.18‒1.70, p=1.4e-04)</td>\n      <td id=\"T_31344_row5_col5\" class=\"data row5 col5\" >1.68, (1.40‒2.03, p=3.9e-08)</td>\n    </tr>\n    <tr>\n      <th id=\"T_31344_level0_row6\" class=\"row_heading level0 row6\" >IGF1</th>\n      <td id=\"T_31344_row6_col0\" class=\"data row6 col0\" >1.33, (1.06‒1.68, p=1.6e-02)</td>\n      <td id=\"T_31344_row6_col1\" class=\"data row6 col1\" >1.27, (1.04‒1.54, p=1.7e-02)</td>\n      <td id=\"T_31344_row6_col2\" class=\"data row6 col2\" >1.12, (0.93‒1.36, p=2.3e-01)</td>\n      <td id=\"T_31344_row6_col3\" class=\"data row6 col3\" >1.18, (1.02‒1.36, p=2.5e-02)</td>\n      <td id=\"T_31344_row6_col4\" class=\"data row6 col4\" >0.99, (0.83‒1.20, p=9.5e-01)</td>\n      <td id=\"T_31344_row6_col5\" class=\"data row6 col5\" >1.12, (0.92‒1.36, p=2.5e-01)</td>\n    </tr>\n    <tr>\n      <th id=\"T_31344_level0_row7\" class=\"row_heading level0 row7\" >Body weight</th>\n      <td id=\"T_31344_row7_col0\" class=\"data row7 col0\" >1.62, (1.23‒2.14, p=6.2e-04)</td>\n      <td id=\"T_31344_row7_col1\" class=\"data row7 col1\" >1.44, (1.20‒1.71, p=5.4e-05)</td>\n      <td id=\"T_31344_row7_col2\" class=\"data row7 col2\" >1.38, (1.20‒1.59, p=9.2e-06)</td>\n      <td id=\"T_31344_row7_col3\" class=\"data row7 col3\" >1.41, (1.23‒1.61, p=8.7e-07)</td>\n      <td id=\"T_31344_row7_col4\" class=\"data row7 col4\" >1.06, (0.88‒1.28, p=5.5e-01)</td>\n      <td id=\"T_31344_row7_col5\" class=\"data row7 col5\" >1.16, (0.97‒1.40, p=1.1e-01)</td>\n    </tr>\n  </tbody>\n</table>\n"
     },
     "metadata": {},
     "output_type": "display_data"
    }
   ],
   "source": [
    "res_Cox = plots.table_MPD_survival(df_data_mpd, ['dFI', 'Cox PH'], cox=True, return_latex=False, fmt='exp')\n",
    "display(res_Cox)\n",
    "try:\n",
    "    # res_Cox.clear()\n",
    "    with pd.ExcelWriter('./source/Supplementary_Data_6.xlsx', engine=\"openpyxl\",  mode=\"a\", if_sheet_exists=\"replace\") as writer:\n",
    "        res_Cox.to_excel(writer)\n",
    "except FileNotFoundError:\n",
    "    with pd.ExcelWriter('./source/Supplementary_Data_6.xlsx', engine=\"openpyxl\") as writer:\n",
    "        res_Cox.to_excel(writer)\n"
   ],
   "metadata": {
    "collapsed": false,
    "pycharm": {
     "name": "#%%\n"
    }
   }
  }
 ],
 "metadata": {
  "kernelspec": {
   "display_name": "Python 3 (mice)",
   "language": "python",
   "name": "tmp"
  },
  "language_info": {
   "codemirror_mode": {
    "name": "ipython",
    "version": 3
   },
   "file_extension": ".py",
   "mimetype": "text/x-python",
   "name": "python",
   "nbconvert_exporter": "python",
   "pygments_lexer": "ipython3",
   "version": "3.8.10"
  }
 },
 "nbformat": 4,
 "nbformat_minor": 4
}